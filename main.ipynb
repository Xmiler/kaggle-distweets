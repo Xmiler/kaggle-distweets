{
 "cells": [
  {
   "cell_type": "code",
   "execution_count": 1,
   "id": "6bc2a0b2",
   "metadata": {},
   "outputs": [
    {
     "name": "stdout",
     "output_type": "stream",
     "text": [
      "Downloading nlp-getting-started.zip to /home/xmiler/projects/kaggle-distweets\n",
      "100%|████████████████████████████████████████| 593k/593k [00:00<00:00, 5.93MB/s]\n",
      "100%|████████████████████████████████████████| 593k/593k [00:00<00:00, 5.88MB/s]\n",
      "Archive:  nlp-getting-started.zip\n",
      "  inflating: sample_submission.csv   \n",
      "  inflating: test.csv                \n",
      "  inflating: train.csv               \n"
     ]
    }
   ],
   "source": [
    "! kaggle competitions download -c nlp-getting-started\n",
    "! unzip nlp-getting-started.zip\n",
    "! mkdir -p data && mv *.csv data/\n",
    "! rm nlp-getting-started.zip"
   ]
  },
  {
   "cell_type": "code",
   "execution_count": 32,
   "id": "e8767013",
   "metadata": {},
   "outputs": [],
   "source": [
    "import pandas as pd\n",
    "import numpy as np\n",
    "import torch\n",
    "from torch import optim\n",
    "from torch import LongTensor\n",
    "from torch.utils.data import TensorDataset, DataLoader\n",
    "import pytorch_lightning as pl\n",
    "from transformers import BertTokenizer, BertForSequenceClassification\n",
    "\n",
    "\n",
    "def tokenize(tokenizer, X):\n",
    "    input_ids, attention_mask = [], []\n",
    "    for text in X:\n",
    "        token = tokenizer(text, \n",
    "                          max_length=256, \n",
    "                          truncation=True, \n",
    "                          padding='max_length',\n",
    "                          add_special_tokens=True)\n",
    "        input_ids.append(token['input_ids'])\n",
    "        attention_mask.append(token['attention_mask'])\n",
    "    return np.array(input_ids), np.array(attention_mask)\n",
    "\n",
    "\n",
    "class LMModel(pl.LightningModule):\n",
    "    def __init__(self, model):\n",
    "        super().__init__()\n",
    "        self._model = model\n",
    "    \n",
    "    def training_step(self, batch, batch_idx):\n",
    "        x_ids, x_attention, y = batch\n",
    "        output = self._model(x_ids, x_attention, labels=y)\n",
    "        return output.loss\n",
    "    \n",
    "    def configure_optimizers(self):\n",
    "        optimizer = optim.Adam(self.parameters(), lr=3e-6, eps = 1e-8)\n",
    "        return optimizer\n",
    "    \n",
    "    def predict_step(self, batch, batch_idx):\n",
    "        x_ids, x_attention = batch\n",
    "        output = self._model(x_ids, x_attention)\n",
    "        return output.logits"
   ]
  },
  {
   "cell_type": "code",
   "execution_count": 2,
   "id": "850e82d6",
   "metadata": {},
   "outputs": [],
   "source": [
    "tokenizer = BertTokenizer.from_pretrained('bert-base-cased')"
   ]
  },
  {
   "cell_type": "code",
   "execution_count": 3,
   "id": "3ed4eecb",
   "metadata": {},
   "outputs": [],
   "source": [
    "train_data = pd.read_csv('data/train.csv')\n",
    "train_data = train_data[['text', 'target']]\n",
    "\n",
    "X_train, y_train = train_data['text'].to_numpy(), train_data['target'].to_numpy()\n",
    "X_train = tokenize(tokenizer, X_train)\n",
    "\n",
    "ds_train = TensorDataset(LongTensor(X_train[0]), LongTensor(X_train[1]), LongTensor(y_train))"
   ]
  },
  {
   "cell_type": "code",
   "execution_count": 4,
   "id": "ab4d47ca",
   "metadata": {
    "scrolled": true
   },
   "outputs": [
    {
     "name": "stderr",
     "output_type": "stream",
     "text": [
      "Some weights of the model checkpoint at bert-base-cased were not used when initializing BertForSequenceClassification: ['cls.predictions.transform.LayerNorm.bias', 'cls.predictions.transform.LayerNorm.weight', 'cls.predictions.transform.dense.weight', 'cls.predictions.bias', 'cls.seq_relationship.weight', 'cls.predictions.transform.dense.bias', 'cls.seq_relationship.bias', 'cls.predictions.decoder.weight']\n",
      "- This IS expected if you are initializing BertForSequenceClassification from the checkpoint of a model trained on another task or with another architecture (e.g. initializing a BertForSequenceClassification model from a BertForPreTraining model).\n",
      "- This IS NOT expected if you are initializing BertForSequenceClassification from the checkpoint of a model that you expect to be exactly identical (initializing a BertForSequenceClassification model from a BertForSequenceClassification model).\n",
      "Some weights of BertForSequenceClassification were not initialized from the model checkpoint at bert-base-cased and are newly initialized: ['classifier.bias', 'classifier.weight']\n",
      "You should probably TRAIN this model on a down-stream task to be able to use it for predictions and inference.\n"
     ]
    }
   ],
   "source": [
    "model = BertForSequenceClassification.from_pretrained('bert-base-cased')"
   ]
  },
  {
   "cell_type": "code",
   "execution_count": 33,
   "id": "91a1e03f",
   "metadata": {},
   "outputs": [
    {
     "name": "stderr",
     "output_type": "stream",
     "text": [
      "GPU available: True, used: True\n",
      "TPU available: False, using: 0 TPU cores\n",
      "IPU available: False, using: 0 IPUs\n",
      "HPU available: False, using: 0 HPUs\n"
     ]
    }
   ],
   "source": [
    "lmmodel = LMModel(model)\n",
    "trainer = pl.Trainer(max_epochs=3, gpus=1)"
   ]
  },
  {
   "cell_type": "code",
   "execution_count": 6,
   "id": "d6ca7a99",
   "metadata": {},
   "outputs": [
    {
     "name": "stderr",
     "output_type": "stream",
     "text": [
      "GPU available: True, used: True\n",
      "TPU available: False, using: 0 TPU cores\n",
      "IPU available: False, using: 0 IPUs\n",
      "HPU available: False, using: 0 HPUs\n",
      "Missing logger folder: /home/xmiler/projects/kaggle-distweets/lightning_logs\n",
      "LOCAL_RANK: 0 - CUDA_VISIBLE_DEVICES: [0]\n",
      "\n",
      "  | Name   | Type                          | Params\n",
      "---------------------------------------------------------\n",
      "0 | _model | BertForSequenceClassification | 108 M \n",
      "---------------------------------------------------------\n",
      "108 M     Trainable params\n",
      "0         Non-trainable params\n",
      "108 M     Total params\n",
      "433.247   Total estimated model params size (MB)\n"
     ]
    },
    {
     "data": {
      "application/vnd.jupyter.widget-view+json": {
       "model_id": "fe47f52a2f314e269fd207c29f464185",
       "version_major": 2,
       "version_minor": 0
      },
      "text/plain": [
       "Training: 0it [00:00, ?it/s]"
      ]
     },
     "metadata": {},
     "output_type": "display_data"
    }
   ],
   "source": [
    "dl_train = DataLoader(ds_train, batch_size=16, num_workers=8)\n",
    "trainer.fit(lmmodel, dl_train)"
   ]
  },
  {
   "cell_type": "code",
   "execution_count": 7,
   "id": "3f426563",
   "metadata": {},
   "outputs": [],
   "source": [
    "trainer.save_checkpoint('final.ckpt')"
   ]
  },
  {
   "cell_type": "code",
   "execution_count": null,
   "id": "2a324754",
   "metadata": {},
   "outputs": [],
   "source": []
  },
  {
   "cell_type": "code",
   "execution_count": 16,
   "id": "784a252a",
   "metadata": {},
   "outputs": [],
   "source": [
    "test_data = pd.read_csv('data/test.csv')\n",
    "test_data = test_data[['text']]\n",
    "\n",
    "X_test = train_data['text'].to_numpy()\n",
    "X_test = tokenize(tokenizer, X_test)\n",
    "\n",
    "ds_test = TensorDataset(LongTensor(X_test[0]), LongTensor(X_test[1]))"
   ]
  },
  {
   "cell_type": "code",
   "execution_count": 29,
   "id": "8acb1bd0",
   "metadata": {},
   "outputs": [],
   "source": [
    "dl_test = DataLoader(ds_test, batch_size=16, num_workers=8)"
   ]
  },
  {
   "cell_type": "code",
   "execution_count": 34,
   "id": "49a08084",
   "metadata": {},
   "outputs": [
    {
     "name": "stderr",
     "output_type": "stream",
     "text": [
      "LOCAL_RANK: 0 - CUDA_VISIBLE_DEVICES: [0]\n"
     ]
    },
    {
     "data": {
      "application/vnd.jupyter.widget-view+json": {
       "model_id": "f38c777065084af1b9dc48eeaf60e2f6",
       "version_major": 2,
       "version_minor": 0
      },
      "text/plain": [
       "Predicting: 0it [00:00, ?it/s]"
      ]
     },
     "metadata": {},
     "output_type": "display_data"
    }
   ],
   "source": [
    "predictions = trainer.predict(lmmodel, dl_test)"
   ]
  },
  {
   "cell_type": "code",
   "execution_count": null,
   "id": "dc5c44dc",
   "metadata": {},
   "outputs": [],
   "source": []
  }
 ],
 "metadata": {
  "kernelspec": {
   "display_name": "Python 3 (ipykernel)",
   "language": "python",
   "name": "python3"
  },
  "language_info": {
   "codemirror_mode": {
    "name": "ipython",
    "version": 3
   },
   "file_extension": ".py",
   "mimetype": "text/x-python",
   "name": "python",
   "nbconvert_exporter": "python",
   "pygments_lexer": "ipython3",
   "version": "3.8.10"
  }
 },
 "nbformat": 4,
 "nbformat_minor": 5
}
